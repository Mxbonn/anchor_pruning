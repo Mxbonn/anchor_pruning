{
 "cells": [
  {
   "cell_type": "markdown",
   "id": "e7192367",
   "metadata": {
    "pycharm": {
     "name": "#%% md\n"
    }
   },
   "source": [
    "## Imports\n",
    "\n",
    "MMDetection and our library"
   ]
  },
  {
   "cell_type": "code",
   "execution_count": 1,
   "id": "69bd4f3a",
   "metadata": {
    "pycharm": {
     "name": "#%%\n"
    }
   },
   "outputs": [],
   "source": [
    "import apr\n",
    "import mmdet\n",
    "from mmcv import Config\n",
    "import pickle"
   ]
  },
  {
   "cell_type": "code",
   "execution_count": 2,
   "id": "0d76c13f",
   "metadata": {
    "pycharm": {
     "name": "#%%\n"
    }
   },
   "outputs": [],
   "source": [
    "import matplotlib\n",
    "import matplotlib.pyplot as plt\n",
    "from matplotlib import rcParams\n",
    "import matplotlib.patches as patches\n",
    "import matplotlib.lines as lines"
   ]
  },
  {
   "cell_type": "markdown",
   "id": "94405fc8",
   "metadata": {
    "pycharm": {
     "name": "#%% md\n"
    }
   },
   "source": [
    "Load the config file from MMDetection for SSD300"
   ]
  },
  {
   "cell_type": "code",
   "execution_count": 3,
   "id": "828f3fd5",
   "metadata": {
    "pycharm": {
     "name": "#%%\n"
    }
   },
   "outputs": [],
   "source": [
    "mmdetection_configs_root = '/home/mbonnaer/github.com/mmdetection/configs'\n",
    "original_mmdet_ssd_config = f'{mmdetection_configs_root}/ssd/ssd300_coco.py'\n",
    "\n",
    "cfg = Config.fromfile(original_mmdet_ssd_config)"
   ]
  },
  {
   "cell_type": "markdown",
   "id": "047ac397",
   "metadata": {
    "pycharm": {
     "name": "#%% md\n"
    }
   },
   "source": [
    "Redefine the anchors by using our `PreciseAnchorGenerator` that allows each individual anchor to be specified.\n",
    "\n",
    "To get the scale and ratio of every anchor of an existing MMDetection model use our tool in `tools/convert_mmdet_config.py`"
   ]
  },
  {
   "cell_type": "code",
   "execution_count": 4,
   "id": "12cc951c",
   "metadata": {
    "pycharm": {
     "name": "#%%\n"
    }
   },
   "outputs": [
    {
     "name": "stdout",
     "output_type": "stream",
     "text": [
      "Converting Anchor Generator of file /home/mbonnaer/github.com/mmdetection/configs/ssd/ssd300_coco.py\n",
      "Converting generator of the type SSDAnchorGenerator to PreciseAnchorGenerator.\n",
      "{'type': 'SSDAnchorGenerator',\n",
      " 'scale_major': False,\n",
      " 'input_size': 300,\n",
      " 'basesize_ratio_range': (0.15, 0.9),\n",
      " 'strides': [8, 16, 32, 64, 100, 300],\n",
      " 'ratios': [[2], [2, 3], [2, 3], [2, 3], [2], [2]]}\n",
      "Old config used:\n",
      "/home/mbonnaer/github.com/mmdetection/mmdet/models/dense_heads/anchor_head.py:123: UserWarning: DeprecationWarning: anchor_generator is deprecated, please use \"prior_generator\" instead\n",
      "  warnings.warn('DeprecationWarning: anchor_generator is deprecated, '\n",
      "New config to be used:\n",
      "{'_delete_': True,\n",
      " 'type': 'PreciseAnchorGenerator',\n",
      " 'strides': [8, 16, 32, 64, 100, 300],\n",
      " 'scale_ratios': [[(0.07, 1.0), (0.1025, 1.0), (0.07, 0.5), (0.07, 2.0)],\n",
      "                  [(0.15, 1.0),\n",
      "                   (0.2225, 1.0),\n",
      "                   (0.15, 0.5),\n",
      "                   (0.15, 2.0),\n",
      "                   (0.15, 0.3333),\n",
      "                   (0.15, 3.0)],\n",
      "                  [(0.33, 1.0),\n",
      "                   (0.4102, 1.0),\n",
      "                   (0.33, 0.5),\n",
      "                   (0.33, 2.0),\n",
      "                   (0.33, 0.3333),\n",
      "                   (0.33, 3.0)],\n",
      "                  [(0.51, 1.0),\n",
      "                   (0.5932, 1.0),\n",
      "                   (0.51, 0.5),\n",
      "                   (0.51, 2.0),\n",
      "                   (0.51, 0.3333),\n",
      "                   (0.51, 3.0)],\n",
      "                  [(0.69, 1.0), (0.7748, 1.0), (0.69, 0.5), (0.69, 2.0)],\n",
      "                  [(0.87, 1.0), (0.9558, 1.0), (0.87, 0.5), (0.87, 2.0)]],\n",
      " 'anchor_base_size': 300}\n"
     ]
    }
   ],
   "source": [
    "!python tools/convert_mmdet_config.py {original_mmdet_ssd_config}"
   ]
  },
  {
   "cell_type": "markdown",
   "id": "8a003ed3",
   "metadata": {
    "pycharm": {
     "name": "#%% md\n"
    }
   },
   "source": [
    "*The adjusted model config below is **not** compatible with the provided model checkpoint from MMDetection, the difference is in the order of anchors, we specify them in the same order as the original SSD paper which is different to the order of the MMDetection model.*"
   ]
  },
  {
   "cell_type": "code",
   "execution_count": 5,
   "id": "03210266",
   "metadata": {
    "pycharm": {
     "name": "#%%\n"
    }
   },
   "outputs": [],
   "source": [
    "adjusted_model_cfg = dict(\n",
    "    model=dict(\n",
    "        bbox_head=dict(\n",
    "            anchor_generator=dict(\n",
    "                _delete_=True,\n",
    "                type='PreciseAnchorGenerator',\n",
    "                strides=[8, 16, 32, 64, 100, 300],\n",
    "                scale_ratios=(\n",
    "                    ((0.07, 1.0), (0.07, 2.0), (0.07, 0.5), (0.1024, 1.0)),\n",
    "                    ((0.15, 1.0), (0.15, 2.0), (0.15, 3.0), (0.15, 0.5), (0.15, 1 / 3), (0.224, 1.0)),\n",
    "                    ((0.33, 1.0), (0.33, 2.0), (0.33, 3.0), (0.33, 0.5), (0.33, 1 / 3), (0.4102, 1.0)),\n",
    "                    ((0.51, 1.0), (0.51, 2.0), (0.51, 3.0), (0.51, 0.5), (0.51, 1 / 3), (0.5932, 1.0)),\n",
    "                    ((0.69, 1.0), (0.69, 2.0), (0.69, 0.5), (0.7747, 1.0)),\n",
    "                    ((0.87, 1.0), (0.87, 2.0), (0.87, 0.5), (0.9557, 1.0)),\n",
    "                    ),\n",
    "                anchor_base_size=300\n",
    "            )\n",
    "        )\n",
    "    )\n",
    ")\n",
    "cfg.merge_from_dict(adjusted_model_cfg)"
   ]
  },
  {
   "cell_type": "markdown",
   "id": "f7904e37",
   "metadata": {
    "pycharm": {
     "name": "#%% md\n"
    }
   },
   "source": [
    "The required input for our anchor pruning script is a directory with a checkpoint of the model named `best_checkpoint.pth` and a single `.py` config file. So lets create that:"
   ]
  },
  {
   "cell_type": "code",
   "execution_count": 6,
   "id": "c0acaada",
   "metadata": {
    "pycharm": {
     "name": "#%%\n"
    }
   },
   "outputs": [],
   "source": [
    "#! mkdir pruning_directory\n",
    "# Download ssd_baseline.pth from https://cloud.ilabt.imec.be/index.php/s/ERxYsRMidPEgNwT\n",
    "#! cp ssd_baseline.pth ./pruning_directory/best_checkpoint.pth\n",
    "#! cp ./configs/ssd_baseline.py ./pruning_directory/ "
   ]
  },
  {
   "cell_type": "markdown",
   "id": "fad7e023",
   "metadata": {
    "pycharm": {
     "name": "#%% md\n"
    }
   },
   "source": [
    "And then run our tool:"
   ]
  },
  {
   "cell_type": "code",
   "execution_count": 7,
   "id": "40df734d",
   "metadata": {
    "lines_to_next_cell": 0,
    "pycharm": {
     "name": "#%%\n"
    }
   },
   "outputs": [],
   "source": [
    "#! python tools/prune_anchors.py -i ./pruning_directory/ -o ./pruning_directory/pruning_results.pickle"
   ]
  },
  {
   "cell_type": "code",
   "execution_count": 8,
   "id": "4c42f550",
   "metadata": {
    "lines_to_next_cell": 2,
    "pycharm": {
     "name": "#%%\n"
    }
   },
   "outputs": [],
   "source": [
    "with open('./pruning_directory/pruning_results.pickle', 'rb') as map_results_file:\n",
    "    results = pickle.load(map_results_file)\n",
    "results['pareto_front'] = list(reversed(sorted(results['pareto_front'], key=lambda k: k['mAP']))) # sort pareto front on mAP"
   ]
  },
  {
   "cell_type": "markdown",
   "id": "7559a927",
   "metadata": {
    "pycharm": {
     "name": "#%% md\n"
    }
   },
   "source": [
    "`results` is a dictionary that consists of a list of the pareto front of anchor configurations that are optimal to prune.\n",
    "Based on the mAP and the #mac operation one can choose which pruned configuration one would like to use.\n",
    "Below we plot the pareto frontier of pruned configurations."
   ]
  },
  {
   "cell_type": "code",
   "execution_count": 9,
   "id": "ddc43e7e",
   "metadata": {
    "pycharm": {
     "name": "#%%\n"
    }
   },
   "outputs": [
    {
     "data": {
      "image/png": "[encoded data removed]",
      "text/plain": [
       "<Figure size 360x255.118 with 1 Axes>"
      ]
     },
     "metadata": {
      "needs_background": "light"
     },
     "output_type": "display_data"
    }
   ],
   "source": [
    "fig = plt.figure(1, figsize=(5,3.54331))\n",
    "ax = plt.subplot(111)\n",
    "ax.set_xlabel('FLOPs')\n",
    "ax.set_ylabel('COCO mAP')\n",
    "\n",
    "ax.plot([node['macs'] for node in results['pareto_front']], [node['mAP'] for node in results['pareto_front']],\n",
    "       linestyle='--', marker='*', color='orange', markerfacecolor='orange', markersize=6)\n",
    "legend_patches =  [patches.Patch(color='orange', label='Pareto Frontier')]\n",
    "ax.set_xlabel('FLOPs')\n",
    "ax.set_ylabel('COCO mAP')\n",
    "ax.grid(linestyle=':', alpha=0.5)\n",
    "plt.legend(handles=legend_patches)\n",
    "plt.tight_layout()\n",
    "plt.show()"
   ]
  },
  {
   "cell_type": "code",
   "execution_count": 10,
   "id": "009a39c3",
   "metadata": {
    "scrolled": true,
    "pycharm": {
     "name": "#%%\n"
    }
   },
   "outputs": [
    {
     "name": "stdout",
     "output_type": "stream",
     "text": [
      "{5, 7, 13, 16, 17, 19, 22, 25, 26, 27, 28} 0.256 3607764480\n",
      "{2, 5, 7, 13, 16, 17, 19, 22, 25, 26, 27, 28} 0.255 3042178560\n",
      "{2, 5, 7, 10, 12, 13, 16, 17, 19, 22, 25, 26, 27, 28} 0.254 2963842560\n",
      "{2, 5, 7, 10, 12, 13, 16, 17, 19, 20, 22, 23, 25, 26, 27, 28} 0.253 2957184000\n",
      "{1, 2, 5, 7, 13, 16, 17, 19, 22, 25, 26, 27, 28} 0.252 2476592640\n",
      "{1, 2, 5, 7, 10, 12, 13, 16, 17, 19, 22, 25, 26, 27, 28} 0.251 2398256640\n",
      "{1, 2, 5, 7, 10, 12, 13, 16, 17, 18, 19, 20, 22, 25, 26, 27, 28} 0.25 2388464640\n",
      "{1, 2, 5, 7, 8, 10, 13, 16, 17, 19, 22, 25, 26, 27, 28} 0.249 2154631680\n",
      "{1, 2, 5, 7, 8, 10, 12, 13, 16, 17, 19, 20, 22, 25, 26, 27, 28} 0.248 2110567680\n",
      "{1, 2, 3, 5, 7, 13, 16, 17, 19, 22, 25, 26, 27, 28} 0.247 1911006720\n",
      "{1, 2, 3, 5, 7, 10, 12, 13, 16, 17, 19, 22, 25, 26, 27, 28} 0.246 1832670720\n",
      "{1, 2, 3, 5, 7, 10, 12, 13, 16, 17, 18, 19, 20, 22, 25, 26, 27, 28} 0.245 1822878720\n",
      "{1, 2, 3, 5, 7, 8, 13, 16, 17, 19, 22, 25, 26, 27, 28} 0.244 1628213760\n",
      "{1, 2, 3, 5, 7, 8, 10, 12, 13, 16, 17, 19, 22, 25, 26, 27, 28} 0.243 1549877760\n",
      "{1, 2, 3, 5, 7, 8, 10, 12, 13, 16, 17, 19, 20, 22, 24, 25, 26, 27, 28} 0.242 1543219200\n",
      "{1, 2, 3, 5, 7, 8, 10, 12, 13, 16, 17, 18, 19, 20, 22, 24, 25, 26, 27, 28} 0.241 1538323200\n",
      "{1, 2, 3, 5, 7, 8, 10, 12, 13, 14, 16, 17, 19, 22, 24, 25, 26, 27, 28} 0.239 1508947200\n",
      "{1, 2, 3, 5, 6, 7, 8, 11, 13, 16, 17, 19, 22, 25, 26, 27, 28} 0.238 1306252800\n",
      "{1, 2, 3, 5, 6, 7, 8, 10, 12, 13, 16, 17, 19, 20, 22, 25, 26, 27, 28} 0.237 1262188800\n",
      "{1, 2, 3, 5, 6, 7, 8, 10, 12, 13, 16, 17, 18, 19, 20, 22, 25, 26, 27, 28} 0.236 1257292800\n",
      "{1, 2, 3, 5, 6, 7, 8, 10, 12, 13, 16, 17, 18, 19, 20, 22, 24, 25, 26, 27, 28} 0.235 1255530240\n",
      "{1, 2, 3, 5, 6, 7, 8, 10, 12, 13, 14, 16, 17, 19, 22, 25, 26, 27, 28} 0.234 1227916800\n",
      "{1, 2, 3, 5, 6, 7, 8, 10, 12, 13, 14, 16, 17, 19, 20, 22, 25, 26, 27, 28} 0.233 1223020800\n",
      "{1, 2, 3, 5, 6, 7, 8, 10, 12, 13, 14, 16, 17, 18, 19, 20, 22, 25, 26, 27, 28} 0.232 1218124800\n",
      "{1, 2, 3, 5, 6, 7, 8, 10, 12, 13, 14, 16, 17, 18, 19, 20, 22, 24, 25, 26, 27, 28} 0.231 1216362240\n",
      "{1, 2, 3, 5, 6, 7, 8, 9, 13, 16, 17, 19, 22, 25, 26, 27, 28} 0.23 1062627840\n",
      "{1, 2, 3, 5, 6, 7, 8, 9, 12, 13, 16, 17, 19, 20, 22, 25, 26, 27, 28} 0.229 1018563840\n",
      "{1, 2, 3, 5, 6, 7, 8, 9, 11, 13, 16, 17, 18, 19, 20, 22, 25, 26, 27, 28} 0.228 1013667840\n",
      "{1, 2, 3, 5, 6, 7, 8, 9, 12, 13, 15, 16, 17, 19, 22, 25, 26, 27, 28} 0.227 984291840\n",
      "{1, 2, 3, 5, 6, 7, 8, 9, 12, 13, 15, 16, 17, 18, 19, 20, 22, 25, 26, 27, 28} 0.226 974499840\n",
      "{1, 2, 3, 5, 6, 7, 8, 9, 12, 13, 15, 16, 17, 18, 19, 20, 22, 24, 25, 26, 27, 28} 0.225 972737280\n",
      "{1, 2, 3, 5, 6, 7, 8, 9, 12, 13, 15, 16, 17, 18, 19, 20, 22, 23, 24, 25, 26, 27, 28} 0.224 970974720\n",
      "{1, 2, 3, 5, 6, 7, 8, 9, 12, 13, 14, 15, 16, 17, 19, 22, 23, 24, 25, 26, 27, 28} 0.223 941598720\n",
      "{1, 2, 3, 5, 6, 7, 8, 9, 12, 13, 14, 15, 16, 17, 18, 19, 22, 24, 25, 26, 27, 28} 0.222 938465280\n",
      "{1, 2, 3, 5, 6, 7, 8, 9, 12, 13, 14, 15, 16, 17, 18, 19, 20, 22, 25, 26, 27, 28} 0.221 935331840\n",
      "{1, 2, 3, 5, 6, 7, 8, 9, 12, 13, 14, 15, 16, 17, 18, 19, 20, 22, 24, 25, 26, 27, 28} 0.22 933569280\n",
      "{1, 2, 3, 5, 6, 7, 8, 9, 12, 13, 14, 15, 16, 17, 18, 19, 20, 22, 23, 24, 25, 26, 27, 28} 0.219 931806720\n",
      "{0, 1, 2, 3, 5, 6, 7, 8, 11, 13, 16, 17, 19, 22, 25, 26, 27, 28} 0.216 740666880\n",
      "{0, 1, 2, 3, 5, 6, 7, 8, 10, 12, 13, 16, 17, 19, 20, 22, 25, 26, 27, 28} 0.215 696602880\n",
      "{0, 1, 2, 3, 5, 6, 7, 8, 10, 12, 13, 16, 17, 18, 19, 20, 22, 25, 26, 27, 28} 0.214 691706880\n",
      "{0, 1, 2, 3, 5, 6, 7, 8, 10, 12, 13, 16, 17, 18, 19, 20, 22, 24, 25, 26, 27, 28} 0.213 689944320\n",
      "{0, 1, 2, 3, 5, 6, 7, 8, 10, 12, 13, 14, 16, 17, 19, 22, 25, 26, 27, 28} 0.212 662330880\n",
      "{0, 1, 2, 3, 5, 6, 7, 8, 10, 12, 13, 14, 16, 17, 18, 19, 22, 24, 25, 26, 27, 28} 0.211 655672320\n",
      "{0, 1, 2, 3, 5, 6, 7, 8, 10, 12, 13, 14, 16, 17, 18, 19, 20, 22, 25, 26, 27, 28} 0.21 652538880\n",
      "{0, 1, 2, 3, 5, 6, 7, 8, 10, 12, 13, 14, 16, 17, 18, 19, 20, 22, 24, 25, 26, 27, 28} 0.209 650776320\n",
      "{0, 1, 2, 3, 5, 6, 7, 8, 10, 12, 13, 14, 16, 17, 18, 19, 20, 22, 23, 24, 25, 26, 27, 28} 0.208 649013760\n",
      "{0, 1, 2, 3, 5, 6, 7, 8, 9, 11, 13, 16, 17, 19, 20, 22, 25, 26, 27, 28} 0.207 452977920\n",
      "{0, 1, 2, 3, 5, 6, 7, 8, 9, 12, 13, 16, 17, 18, 19, 20, 22, 25, 26, 27, 28} 0.206 448081920\n",
      "{0, 1, 2, 3, 5, 6, 7, 8, 9, 12, 13, 15, 16, 17, 19, 22, 25, 26, 27, 28} 0.205 418705920\n",
      "{0, 1, 2, 3, 5, 6, 7, 8, 9, 12, 13, 15, 16, 17, 19, 20, 22, 23, 25, 26, 27, 28} 0.204 412047360\n",
      "{0, 1, 2, 3, 5, 6, 7, 8, 9, 12, 13, 15, 16, 17, 18, 19, 20, 22, 24, 25, 26, 27, 28} 0.203 407151360\n",
      "{0, 1, 2, 3, 5, 6, 7, 8, 9, 12, 13, 15, 16, 17, 18, 19, 20, 22, 23, 24, 25, 26, 27, 28} 0.202 405388800\n",
      "{0, 1, 2, 3, 5, 6, 7, 8, 9, 12, 13, 14, 15, 16, 17, 19, 22, 24, 25, 26, 27, 28} 0.201 377775360\n",
      "{0, 1, 2, 3, 5, 6, 7, 8, 9, 12, 13, 14, 15, 16, 17, 18, 19, 22, 24, 25, 26, 27, 28} 0.2 372879360\n"
     ]
    }
   ],
   "source": [
    "for node in results['pareto_front']:\n",
    "    print(node['removed_anchors'], node['mAP'], node['macs'])"
   ]
  },
  {
   "cell_type": "markdown",
   "id": "a3ab20f6",
   "metadata": {
    "pycharm": {
     "name": "#%% md\n"
    }
   },
   "source": [
    "To convert these `removed_anchors` back to a configuration you remove the anchors corresponding to the indices indicated above.\n",
    "For example Configuration A from the paper corresponds with the pruned configuration with the highest accuracy and becomes:\n",
    "\n",
    "configuration A = {5, 7, 13, 16, 17, 19, 22, 25, 26, 27, 28})\n",
    "\n",
    "scale_ratios=(\n",
    "\n",
    "((0.07, 1.0), (0.07, 2.0), (0.07, 0.5), (0.1024, 1.0)),\n",
    "\n",
    "((0.15, 1.0), ~~(0.15, 2.0)~~, (0.15, 3.0), ~~(0.15, 0.5)~~, (0.15, 1 / 3), (0.224, 1.0)),\n",
    "\n",
    "((0.33, 1.0), (0.33, 2.0), (0.33, 3.0), ~~(0.33, 0.5)~~, (0.33, 1 / 3), (0.4102, 1.0)),\n",
    "\n",
    "(~~(0.51, 1.0), (0.51, 2.0)~~, (0.51, 3.0), ~~(0.51, 0.5)~~, (0.51, 1 / 3), (0.5932, 1.0)),\n",
    "\n",
    "(~~(0.69, 1.0)~~, (0.69, 2.0), (0.69, 0.5), ~~(0.7747, 1.0)~~),\n",
    "\n",
    "(~~(0.87, 1.0), (0.87, 2.0), (0.87, 0.5),~~ (0.9557, 1.0)),\n",
    "),"
   ]
  },
  {
   "cell_type": "code",
   "execution_count": 11,
   "id": "b7c8a96b",
   "metadata": {
    "pycharm": {
     "name": "#%%\n"
    }
   },
   "outputs": [],
   "source": [
    "adjusted_model_cfg = dict(\n",
    "    model=dict(\n",
    "        bbox_head=dict(\n",
    "            anchor_generator=dict(\n",
    "                _delete_=True,\n",
    "                type='PreciseAnchorGenerator',\n",
    "                strides=[8, 16, 32, 64, 100, 300],\n",
    "                scale_ratios=(\n",
    "                    ((0.07, 1.0), (0.07, 2.0), (0.07, 0.5), (0.1024, 1.0)),\n",
    "                    ((0.15, 1.0), (0.15, 3.0), (0.15, 1/3), (0.224, 1.0)),\n",
    "                    ((0.33, 1.0), (0.33, 2.0), (0.33, 3.0), (0.33, 1/3), (0.4102, 1.0)),\n",
    "                    ((0.51, 3.0), (0.51, 1/3), (0.5932, 1.0)),\n",
    "                    ((0.69, 2.0), (0.69, 0.5)),\n",
    "                    ((0.9557, 1.0))\n",
    "                    ),\n",
    "                anchor_base_size=300\n",
    "            )\n",
    "        )\n",
    "    )\n",
    ")\n",
    "cfg.merge_from_dict(adjusted_model_cfg)"
   ]
  },
  {
   "cell_type": "markdown",
   "id": "8c9f36f9",
   "metadata": {
    "pycharm": {
     "name": "#%% md\n"
    }
   },
   "source": [
    "To train these new configurations with MMDetection it is as simple as adding `import apr` to the scripts of MMDetection. Or you can use the scripts provided in our tools directory, which have done exactly that."
   ]
  },
  {
   "cell_type": "code",
   "execution_count": null,
   "id": "4c6cdd06",
   "metadata": {
    "pycharm": {
     "name": "#%%\n"
    }
   },
   "outputs": [],
   "source": []
  }
 ],
 "metadata": {
  "jupytext": {
   "text_representation": {
    "extension": ".py",
    "format_name": "light",
    "format_version": "1.5",
    "jupytext_version": "1.9.0"
   }
  },
  "kernelspec": {
   "display_name": "Python 3 (ipykernel)",
   "language": "python",
   "name": "python3"
  },
  "language_info": {
   "codemirror_mode": {
    "name": "ipython",
    "version": 3
   },
   "file_extension": ".py",
   "mimetype": "text/x-python",
   "name": "python",
   "nbconvert_exporter": "python",
   "pygments_lexer": "ipython3",
   "version": "3.8.2"
  }
 },
 "nbformat": 4,
 "nbformat_minor": 5
}