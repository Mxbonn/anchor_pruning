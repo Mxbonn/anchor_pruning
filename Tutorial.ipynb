{
 "cells": [
  {
   "cell_type": "markdown",
   "id": "e7192367",
   "metadata": {
    "pycharm": {
     "name": "#%% md\n"
    }
   },
   "source": [
    "## Imports\n",
    "\n",
    "MMDetection and our library"
   ]
  },
  {
   "cell_type": "code",
   "execution_count": 1,
   "id": "69bd4f3a",
   "metadata": {
    "pycharm": {
     "name": "#%%\n"
    }
   },
   "outputs": [],
   "source": [
    "import apr\n",
    "import mmdet\n",
    "from mmcv import Config\n",
    "import pickle"
   ]
  },
  {
   "cell_type": "code",
   "execution_count": 2,
   "id": "0d76c13f",
   "metadata": {
    "pycharm": {
     "name": "#%%\n"
    }
   },
   "outputs": [],
   "source": [
    "import matplotlib\n",
    "import matplotlib.pyplot as plt\n",
    "from matplotlib import rcParams\n",
    "import matplotlib.patches as patches\n",
    "import matplotlib.lines as lines"
   ]
  },
  {
   "cell_type": "markdown",
   "id": "94405fc8",
   "metadata": {
    "pycharm": {
     "name": "#%% md\n"
    }
   },
   "source": [
    "Load the config file from MMDetection for SSD300"
   ]
  },
  {
   "cell_type": "code",
   "execution_count": 3,
   "id": "828f3fd5",
   "metadata": {
    "pycharm": {
     "name": "#%%\n"
    }
   },
   "outputs": [],
   "source": [
    "mmdetection_configs_root = '/home/mbonnaer/github.com/mmdetection/configs'\n",
    "original_mmdet_ssd_config = f'{mmdetection_configs_root}/ssd/ssd300_coco.py'\n",
    "\n",
    "cfg = Config.fromfile(original_mmdet_ssd_config)"
   ]
  },
  {
   "cell_type": "markdown",
   "id": "047ac397",
   "metadata": {
    "pycharm": {
     "name": "#%% md\n"
    }
   },
   "source": [
    "Redefine the anchors by using our `PreciseAnchorGenerator` that allows each individual anchor to be specified.\n",
    "\n",
    "To get the scale and ratio of every anchor of an existing MMDetection model use our tool in `tools/convert_mmdet_config.py`"
   ]
  },
  {
   "cell_type": "code",
   "execution_count": 4,
   "id": "12cc951c",
   "metadata": {
    "pycharm": {
     "name": "#%%\n"
    }
   },
   "outputs": [
    {
     "name": "stdout",
     "output_type": "stream",
     "text": [
      "Converting Anchor Generator of file /home/mbonnaer/github.com/mmdetection/configs/ssd/ssd300_coco.py\n",
      "Converting generator of the type SSDAnchorGenerator to PreciseAnchorGenerator.\n",
      "{'type': 'SSDAnchorGenerator',\n",
      " 'scale_major': False,\n",
      " 'input_size': 300,\n",
      " 'basesize_ratio_range': (0.15, 0.9),\n",
      " 'strides': [8, 16, 32, 64, 100, 300],\n",
      " 'ratios': [[2], [2, 3], [2, 3], [2, 3], [2], [2]]}\n",
      "Old config used:\n",
      "New config to be used:\n",
      "{'_delete_': True,\n",
      " 'type': 'PreciseAnchorGenerator',\n",
      " 'strides': [8, 16, 32, 64, 100, 300],\n",
      " 'scale_ratios': [[(0.07, 1.0), (0.1025, 1.0), (0.07, 0.5), (0.07, 2.0)],\n",
      "                  [(0.15, 1.0),\n",
      "                   (0.2225, 1.0),\n",
      "                   (0.15, 0.5),\n",
      "                   (0.15, 2.0),\n",
      "                   (0.15, 0.3333),\n",
      "                   (0.15, 3.0)],\n",
      "                  [(0.33, 1.0),\n",
      "                   (0.4102, 1.0),\n",
      "                   (0.33, 0.5),\n",
      "                   (0.33, 2.0),\n",
      "                   (0.33, 0.3333),\n",
      "                   (0.33, 3.0)],\n",
      "                  [(0.51, 1.0),\n",
      "                   (0.5932, 1.0),\n",
      "                   (0.51, 0.5),\n",
      "                   (0.51, 2.0),\n",
      "                   (0.51, 0.3333),\n",
      "                   (0.51, 3.0)],\n",
      "                  [(0.69, 1.0), (0.7748, 1.0), (0.69, 0.5), (0.69, 2.0)],\n",
      "                  [(0.87, 1.0), (0.9558, 1.0), (0.87, 0.5), (0.87, 2.0)]],\n",
      " 'anchor_base_size': 300,\n",
      " 'centers': [(4.0, 4.0),\n",
      "             (8.0, 8.0),\n",
      "             (16.0, 16.0),\n",
      "             (32.0, 32.0),\n",
      "             (50.0, 50.0),\n",
      "             (150.0, 150.0)]}\n"
     ]
    }
   ],
   "source": [
    "!python tools/convert_mmdet_config.py {original_mmdet_ssd_config}"
   ]
  },
  {
   "cell_type": "markdown",
   "id": "8a003ed3",
   "metadata": {
    "pycharm": {
     "name": "#%% md\n"
    }
   },
   "source": [
    "*The adjusted model config below is **not** compatible with the provided model checkpoint from MMDetection, the difference is in the order of anchors, we specify them in the same order as the original SSD paper which is different to the order of the MMDetection model.*"
   ]
  },
  {
   "cell_type": "code",
   "execution_count": null,
   "outputs": [],
   "source": [
    "adjusted_model_cfg = dict(\n",
    "    model=dict(\n",
    "        bbox_head=dict(\n",
    "            anchor_generator=dict(\n",
    "                _delete_=True,\n",
    "                type='PreciseAnchorGenerator',\n",
    "                strides=[8, 16, 32, 64, 100, 300],\n",
    "                scale_ratios=(\n",
    "                    ((0.07, 1.0), (0.07, 2.0), (0.07, 0.5), (0.1024, 1.0)),\n",
    "                    ((0.15, 1.0), (0.15, 2.0), (0.15, 3.0), (0.15, 0.5), (0.15, 1 / 3), (0.224, 1.0)),\n",
    "                    ((0.33, 1.0), (0.33, 2.0), (0.33, 3.0), (0.33, 0.5), (0.33, 1 / 3), (0.4102, 1.0)),\n",
    "                    ((0.51, 1.0), (0.51, 2.0), (0.51, 3.0), (0.51, 0.5), (0.51, 1 / 3), (0.5932, 1.0)),\n",
    "                    ((0.69, 1.0), (0.69, 2.0), (0.69, 0.5), (0.7747, 1.0)),\n",
    "                    ((0.87, 1.0), (0.87, 2.0), (0.87, 0.5), (0.9557, 1.0)),\n",
    "                    ),\n",
    "                anchor_base_size=300,\n",
    "                centers=((4, 4), (8, 8), (16, 16), (32, 32), (50, 50), (150, 150))\n",
    "            )\n",
    "        )\n",
    "    )\n",
    ")\n",
    "cfg.merge_from_dict(adjusted_model_cfg)"
   ],
   "metadata": {
    "collapsed": false,
    "pycharm": {
     "name": "#%%\n"
    }
   }
  },
  {
   "cell_type": "markdown",
   "source": [
    "The required input for our anchor pruning script is a directory with a checkpoint of the model named `best_checkpoint.pth` and a single `.py` config file. So lets create that:"
   ],
   "metadata": {
    "collapsed": false,
    "pycharm": {
     "name": "#%% md\n"
    }
   }
  },
  {
   "cell_type": "code",
   "execution_count": null,
   "outputs": [],
   "source": [
    "#! mkdir pruning_directory\n",
    "# Download ssd_baseline.pth from https://cloud.ilabt.imec.be/index.php/s/ERxYsRMidPEgNwT\n",
    "#! cp ssd_baseline.pth ./pruning_directory/best_checkpoint.pth\n",
    "#! cp ./configs/ssd_baseline.py ./pruning_directory/ "
   ],
   "metadata": {
    "collapsed": false,
    "pycharm": {
     "name": "#%%\n"
    }
   }
  },
  {
   "cell_type": "markdown",
   "source": [
    "And then run our tool:"
   ],
   "metadata": {
    "collapsed": false,
    "pycharm": {
     "name": "#%% md\n"
    }
   }
  },
  {
   "cell_type": "code",
   "execution_count": null,
   "outputs": [],
   "source": [
    "#! python tools/prune_anchors.py -i ./pruning_directory/ -o ./pruning_directory/pruning_results.pickle"
   ],
   "metadata": {
    "collapsed": false,
    "pycharm": {
     "name": "#%%\n"
    }
   }
  },
  {
   "cell_type": "code",
   "execution_count": null,
   "outputs": [],
   "source": [
    "with open('./pruning_directory/pruning_results.pickle', 'rb') as map_results_file:\n",
    "    results = pickle.load(map_results_file)\n",
    "results['pareto_front'] = list(reversed(sorted(results['pareto_front'], key=lambda k: k['mAP']))) # sort pareto front on mAP"
   ],
   "metadata": {
    "collapsed": false,
    "pycharm": {
     "name": "#%%\n"
    }
   }
  },
  {
   "cell_type": "markdown",
   "source": [
    "`results` is a dictionary that consists of a list of the pareto front of anchor configurations that are optimal to prune.\n",
    "Based on the mAP and the #mac operation one can choose which pruned configuration one would like to use.\n",
    "Below we plot the pareto frontier of pruned configurations."
   ],
   "metadata": {
    "collapsed": false,
    "pycharm": {
     "name": "#%% md\n"
    }
   }
  },
  {
   "cell_type": "code",
   "execution_count": null,
   "outputs": [],
   "source": [
    "fig = plt.figure(1, figsize=(5,3.54331))\n",
    "ax = plt.subplot(111)\n",
    "ax.set_xlabel('FLOPs')\n",
    "ax.set_ylabel('COCO mAP')\n",
    "\n",
    "ax.plot([node['macs'] for node in results['pareto_front']], [node['mAP'] for node in results['pareto_front']],\n",
    "       linestyle='--', marker='*', color='orange', markerfacecolor='orange', markersize=6)\n",
    "legend_patches =  [patches.Patch(color='orange', label='Pareto Frontier')]\n",
    "ax.set_xlabel('FLOPs')\n",
    "ax.set_ylabel('COCO mAP')\n",
    "ax.grid(linestyle=':', alpha=0.5)\n",
    "plt.legend(handles=legend_patches)\n",
    "plt.tight_layout()\n",
    "plt.show()"
   ],
   "metadata": {
    "collapsed": false,
    "pycharm": {
     "name": "#%%\n"
    }
   }
  },
  {
   "cell_type": "code",
   "execution_count": null,
   "outputs": [],
   "source": [
    "for node in results['pareto_front']:\n",
    "    print(node['removed_anchors'], node['mAP'], node['macs'])"
   ],
   "metadata": {
    "collapsed": false,
    "pycharm": {
     "name": "#%%\n"
    }
   }
  },
  {
   "cell_type": "markdown",
   "source": [
    "To convert these `removed_anchors` back to a configuration you remove the anchors corresponding to the indices indicated above.\n",
    "For example Configuration A from the paper corresponds with the pruned configuration with the highest accuracy and becomes:\n",
    "\n",
    "configuration A = {5, 7, 13, 16, 17, 19, 22, 25, 26, 27, 28})\n",
    "\n",
    "scale_ratios=(\n",
    "\n",
    "((0.07, 1.0), (0.07, 2.0), (0.07, 0.5), (0.1024, 1.0)),\n",
    "\n",
    "((0.15, 1.0), ~~(0.15, 2.0)~~, (0.15, 3.0), ~~(0.15, 0.5)~~, (0.15, 1 / 3), (0.224, 1.0)),\n",
    "\n",
    "((0.33, 1.0), (0.33, 2.0), (0.33, 3.0), ~~(0.33, 0.5)~~, (0.33, 1 / 3), (0.4102, 1.0)),\n",
    "\n",
    "(~~(0.51, 1.0), (0.51, 2.0)~~, (0.51, 3.0), ~~(0.51, 0.5)~~, (0.51, 1 / 3), (0.5932, 1.0)),\n",
    "\n",
    "(~~(0.69, 1.0)~~, (0.69, 2.0), (0.69, 0.5), ~~(0.7747, 1.0)~~),\n",
    "\n",
    "(~~(0.87, 1.0), (0.87, 2.0), (0.87, 0.5),~~ (0.9557, 1.0)),\n",
    "),"
   ],
   "metadata": {
    "collapsed": false,
    "pycharm": {
     "name": "#%% md\n"
    }
   }
  },
  {
   "cell_type": "code",
   "execution_count": null,
   "outputs": [],
   "source": [
    "adjusted_model_cfg = dict(\n",
    "    model=dict(\n",
    "        bbox_head=dict(\n",
    "            anchor_generator=dict(\n",
    "                _delete_=True,\n",
    "                type='PreciseAnchorGenerator',\n",
    "                strides=[8, 16, 32, 64, 100, 300],\n",
    "                scale_ratios=(\n",
    "                    ((0.07, 1.0), (0.07, 2.0), (0.07, 0.5), (0.1024, 1.0)),\n",
    "                    ((0.15, 1.0), (0.15, 3.0), (0.15, 1/3), (0.224, 1.0)),\n",
    "                    ((0.33, 1.0), (0.33, 2.0), (0.33, 3.0), (0.33, 1/3), (0.4102, 1.0)),\n",
    "                    ((0.51, 3.0), (0.51, 1/3), (0.5932, 1.0)),\n",
    "                    ((0.69, 2.0), (0.69, 0.5)),\n",
    "                    ((0.9557, 1.0))\n",
    "                    ),\n",
    "                anchor_base_size=300,\n",
    "                centers=((4, 4), (8, 8), (16, 16), (32, 32), (50, 50), (150, 150))\n",
    "            )\n",
    "        )\n",
    "    )\n",
    ")\n",
    "cfg.merge_from_dict(adjusted_model_cfg)"
   ],
   "metadata": {
    "collapsed": false,
    "pycharm": {
     "name": "#%%\n"
    }
   }
  },
  {
   "cell_type": "markdown",
   "id": "8c9f36f9",
   "metadata": {
    "pycharm": {
     "name": "#%% md\n"
    }
   },
   "source": [
    "To train these new configurations with MMDetection it is as simple as adding `import apr` to the scripts of MMDetection. Or you can use the scripts provided in our tools directory, which have done exactly that."
   ]
  },
  {
   "cell_type": "code",
   "execution_count": null,
   "id": "4c6cdd06",
   "metadata": {
    "pycharm": {
     "name": "#%%\n"
    }
   },
   "outputs": [],
   "source": []
  }
 ],
 "metadata": {
  "jupytext": {
   "text_representation": {
    "extension": ".py",
    "format_name": "light",
    "format_version": "1.5",
    "jupytext_version": "1.9.0"
   }
  },
  "kernelspec": {
   "display_name": "Python 3 (ipykernel)",
   "language": "python",
   "name": "python3"
  },
  "language_info": {
   "codemirror_mode": {
    "name": "ipython",
    "version": 3
   },
   "file_extension": ".py",
   "mimetype": "text/x-python",
   "name": "python",
   "nbconvert_exporter": "python",
   "pygments_lexer": "ipython3",
   "version": "3.8.2"
  }
 },
 "nbformat": 4,
 "nbformat_minor": 5
}